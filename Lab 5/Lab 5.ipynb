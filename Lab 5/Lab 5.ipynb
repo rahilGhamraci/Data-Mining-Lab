{
 "cells": [
  {
   "cell_type": "code",
   "execution_count": 1,
   "metadata": {},
   "outputs": [],
   "source": [
    "import math\n",
    "import pandas as pd\n",
    "import numpy as np"
   ]
  },
  {
   "cell_type": "code",
   "execution_count": 2,
   "metadata": {},
   "outputs": [],
   "source": [
    "def load_dataset(path):\n",
    "    df = pd.read_csv(path, delimiter=',' , engine='python')\n",
    "    return df"
   ]
  },
  {
   "cell_type": "code",
   "execution_count": 3,
   "metadata": {},
   "outputs": [],
   "source": [
    "path=\"..\\DatasetExos.csv\"\n",
    "df = load_dataset(path)"
   ]
  },
  {
   "cell_type": "code",
   "execution_count": 22,
   "metadata": {},
   "outputs": [],
   "source": [
    "df.loc[df[\"Category\"] == \"heav\", \"Category\"] = \"heavy\"\n",
    "df.loc[df[\"Exercise\"] == \"reste\", \"Exercise\"] = \"rest\"\n",
    "df.loc[df[\"Exercise\"] == \"raw\", \"Exercise\"] = \"row\"\n",
    "df= df.dropna()"
   ]
  },
  {
   "cell_type": "code",
   "execution_count": null,
   "metadata": {},
   "outputs": [],
   "source": [
    "def manhattan_distance(instance1,instance2,columns):\n",
    "    d = 0\n",
    "\n",
    "    for column in columns:\n",
    "        d +=  abs(instance1[column] - instance2[column])\n",
    "    \n",
    "    return d"
   ]
  },
  {
   "cell_type": "code",
   "execution_count": 5,
   "metadata": {},
   "outputs": [],
   "source": [
    "def hamming_distance(instance1, instance2, columns):\n",
    "    d = 0\n",
    "\n",
    "    for column in columns:\n",
    "       \n",
    "        d += sum(c1 != c2 for c1, c2 in zip(instance1[column], instance2[column]))\n",
    "    \n",
    "    return d\n"
   ]
  },
  {
   "cell_type": "code",
   "execution_count": 6,
   "metadata": {},
   "outputs": [],
   "source": [
    "def instance_distance(instance1, instance2, numerical_columns, categorical_columns):\n",
    "\n",
    "    d1 = manhattan_distance(instance1,instance2,numerical_columns) \n",
    "    d2 = hamming_distance(instance1, instance2, categorical_columns)\n",
    "    return d1 + d2"
   ]
  },
  {
   "cell_type": "code",
   "execution_count": 24,
   "metadata": {},
   "outputs": [
    {
     "name": "stdout",
     "output_type": "stream",
     "text": [
      "Index(['Acc_x', 'Acc_y', 'Acc_z', 'Gyro_x', 'Gyro_y', 'Gyro_z', 'Set'], dtype='object')\n",
      "Index(['Category', 'ID', 'ep (ms)'], dtype='object')\n"
     ]
    }
   ],
   "source": [
    "numerical_cols = df.select_dtypes(include=[np.number]).columns\n",
    "non_numerical_cols = df.select_dtypes(exclude=[np.number]).columns\n",
    "non_numerical_cols = non_numerical_cols.difference(['Exercise'])\n",
    "print(numerical_cols)\n",
    "print(non_numerical_cols)"
   ]
  },
  {
   "cell_type": "code",
   "execution_count": 25,
   "metadata": {},
   "outputs": [],
   "source": [
    "instance1 = df.iloc[0]  # Get the first row\n",
    "instance2 = df.iloc[1]"
   ]
  },
  {
   "cell_type": "code",
   "execution_count": 26,
   "metadata": {},
   "outputs": [
    {
     "data": {
      "text/plain": [
       "5.7994"
      ]
     },
     "execution_count": 26,
     "metadata": {},
     "output_type": "execute_result"
    }
   ],
   "source": [
    "d = instance_distance(instance1, instance2, numerical_cols, non_numerical_cols)\n",
    "d"
   ]
  },
  {
   "cell_type": "code",
   "execution_count": 39,
   "metadata": {},
   "outputs": [],
   "source": [
    "def sorting_distances(df, instance, numerical_columns, categorical_columns):\n",
    "    distances = []\n",
    "    \n",
    "    for _, row in df.iterrows():  \n",
    "        d = instance_distance(instance, row, numerical_columns, categorical_columns)\n",
    "        distances.append((row, d))  \n",
    "    \n",
    "    distances = sorted(distances, key=lambda x: x[1])  \n",
    "    return distances"
   ]
  },
  {
   "cell_type": "code",
   "execution_count": 15,
   "metadata": {},
   "outputs": [],
   "source": [
    "def dominant_class(top_k_distances):\n",
    "    classes = {}\n",
    "\n",
    "    for row, distance in top_k_distances:\n",
    "        if 'Exercise' in row:\n",
    "            if row['Exercise'] in classes:\n",
    "                classes[row['Exercise']] += 1\n",
    "            else:\n",
    "                classes[row['Exercise']] = 1\n",
    "        else:\n",
    "            raise KeyError(\"Column 'Exercise' not found in the row data.\")\n",
    "\n",
    "   \n",
    "    sorted_classes = sorted(classes.items(), key=lambda x: x[1], reverse=True)\n",
    "\n",
    "   \n",
    "    return sorted_classes[0][0] if sorted_classes else None\n"
   ]
  },
  {
   "cell_type": "code",
   "execution_count": 16,
   "metadata": {},
   "outputs": [],
   "source": [
    "def knn(df,instance,k,numerical_columns, categorical_columns):\n",
    "\n",
    "    sorted_distances = sorting_distances(df, instance, numerical_columns, categorical_columns)\n",
    " \n",
    "    top_k_distances = sorted_distances[:k]\n",
    "\n",
    "    return dominant_class(top_k_distances)"
   ]
  },
  {
   "cell_type": "code",
   "execution_count": 40,
   "metadata": {},
   "outputs": [
    {
     "data": {
      "text/plain": [
       "ep (ms)     2024-11-20 18:09:51.000\n",
       "Acc_x                        -0.137\n",
       "Acc_y                         1.066\n",
       "Acc_z                        0.8215\n",
       "Gyro_x                       -6.597\n",
       "Gyro_y                        0.808\n",
       "Gyro_z                        1.985\n",
       "ID                                B\n",
       "Category                     medium\n",
       "Set                              30\n",
       "Name: 0, dtype: object"
      ]
     },
     "execution_count": 40,
     "metadata": {},
     "output_type": "execute_result"
    }
   ],
   "source": [
    "X = {\n",
    "    'ep (ms)': '2024-11-20 18:09:51.000',  \n",
    "    'Acc_x': -0.137,\n",
    "    'Acc_y': 1.066,\n",
    "    'Acc_z': 0.8215,\n",
    "    'Gyro_x': -6.597,\n",
    "    'Gyro_y': 0.808,\n",
    "    'Gyro_z': 1.985,\n",
    "    'ID': 'B',\n",
    "    'Category': 'medium',\n",
    "    'Set': 30\n",
    "}\n",
    "\n",
    "instance_df = pd.DataFrame([X])\n",
    "instance_df = instance_df.iloc[0]\n",
    "instance_df\n"
   ]
  },
  {
   "cell_type": "code",
   "execution_count": 41,
   "metadata": {},
   "outputs": [
    {
     "name": "stdout",
     "output_type": "stream",
     "text": [
      "The predicted class for the instance is bench\n"
     ]
    }
   ],
   "source": [
    "predicted_class = knn(df, instance_df, 3, numerical_cols, non_numerical_cols)\n",
    "print(f'The predicted class for the instance is {predicted_class}')"
   ]
  },
  {
   "cell_type": "code",
   "execution_count": 42,
   "metadata": {},
   "outputs": [
    {
     "name": "stdout",
     "output_type": "stream",
     "text": [
      "the predicted class for the instance is squat\n"
     ]
    }
   ],
   "source": [
    "predicted_class = knn(df, instance_df, 10, numerical_cols, non_numerical_cols)\n",
    "print(f'the predicted class for the instance is {predicted_class}')"
   ]
  },
  {
   "cell_type": "code",
   "execution_count": 43,
   "metadata": {},
   "outputs": [
    {
     "name": "stdout",
     "output_type": "stream",
     "text": [
      "the predicted class for the instance is bench\n",
      "the actual class for the instance is bench\n"
     ]
    }
   ],
   "source": [
    "test_instance = df.iloc[0]\n",
    "df_without_instance = df[df.index != test_instance.name]\n",
    "actual_class =  test_instance['Exercise']\n",
    "predicted_class = knn(df_without_instance, test_instance, 3, numerical_cols, non_numerical_cols)\n",
    "print(f'the predicted class for the instance is {predicted_class}')\n",
    "print(f'the actual class for the instance is {predicted_class}')"
   ]
  }
 ],
 "metadata": {
  "kernelspec": {
   "display_name": "Python 3",
   "language": "python",
   "name": "python3"
  },
  "language_info": {
   "codemirror_mode": {
    "name": "ipython",
    "version": 3
   },
   "file_extension": ".py",
   "mimetype": "text/x-python",
   "name": "python",
   "nbconvert_exporter": "python",
   "pygments_lexer": "ipython3",
   "version": "3.10.7"
  }
 },
 "nbformat": 4,
 "nbformat_minor": 2
}
